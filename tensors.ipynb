{
 "cells": [
  {
   "cell_type": "markdown",
   "metadata": {},
   "source": [
    "# Intro to Tensors"
   ]
  },
  {
   "cell_type": "markdown",
   "metadata": {},
   "source": [
    "- **Tensor**: multi-dimensional array of values of the same type\n",
    "- Need to convert our data to tensors to use them in PyTorch using `torch.tensor()` method\n",
    "    - 2 arguments: the numerical data (NumPy array, Python list, or Python numeric variable) and the desired data type (the `dtype` parameter; e.g. `torch.int`, `torch.float`)\n",
    "\n",
    "\n"
   ]
  },
  {
   "cell_type": "markdown",
   "metadata": {},
   "source": [
    "Often, the data is in a Pandas DataFrame, so we need to convert it to a NumPy array first by using the `.values` attribute\n",
    "\n",
    "```python\n",
    "# convert a DataFrame named df to a PyTorch tensor\n",
    "torch.tensor(\n",
    "    df.values, \n",
    "    dtype=torch.float)\n",
    "```\n"
   ]
  },
  {
   "cell_type": "markdown",
   "metadata": {},
   "source": [
    "Occasionally, individual columns of a DataFrame can cause problems due to dimension assumptions in torch. \n",
    "One solution is making sure the individual column is a full DataFrame by using two brackets to select it:\n",
    "\n",
    "```python\n",
    "torch.tensor(\n",
    "    df[['column']].values,\n",
    "    dtype=torch.float)\n",
    "```\n",
    "\n",
    "Another is to use torch’s `.view(-1,1)` method to automatically adjust dimensions:\n",
    "\n",
    "```python\n",
    "torch.tensor(\n",
    "    df[['column']].values.view(-1,1),\n",
    "    dtype=torch.float)\n",
    "```"
   ]
  },
  {
   "cell_type": "markdown",
   "metadata": {},
   "source": [
    "### Example\n",
    "Building a neural network to predict the rent of an apartment"
   ]
  },
  {
   "cell_type": "code",
   "execution_count": null,
   "metadata": {},
   "outputs": [],
   "source": [
    "import pandas as pd\n",
    "import torch\n",
    "import numpy as np\n",
    "\n",
    "# import the dataset using pandas\n",
    "apartments_df = pd.read_csv(\"streeteasy.csv\")\n",
    "\n",
    "# select the rent, size, and age columns\n",
    "apartments_df = apartments_df[[\"rent\", \"size_sqft\", \"building_age_yrs\"]]\n",
    "\n",
    "# convert the DataFrame to a tensor\n",
    "apartments_tensor = torch.tensor(apartments_df.values, dtype=torch.float32)\n",
    "\n",
    "# show output\n",
    "apartments_tensor"
   ]
  }
 ],
 "metadata": {
  "language_info": {
   "name": "python"
  }
 },
 "nbformat": 4,
 "nbformat_minor": 2
}
