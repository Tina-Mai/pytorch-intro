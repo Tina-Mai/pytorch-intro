{
 "cells": [
  {
   "cell_type": "markdown",
   "metadata": {},
   "source": [
    "# The Loss Function\n",
    "\n",
    "**Loss function**: mathematical formula used to measure the error (i.e. **loss values**) between the model predictions and the actual target values (i.e. **labels**) the model is trying to predict\n",
    "\n",
    "### Mean Squared Error (MSE)\n",
    "MSE makes differences positive by squaring them.\n",
    "\n",
    "Pytorch has this implemented:\n",
    "\n",
    "```python\n",
    "loss_fn = nn.MSELoss()\n",
    "```\n",
    "\n",
    "Use this to calculate loss between two example apartments:\n",
    "\n"
   ]
  },
  {
   "cell_type": "code",
   "execution_count": null,
   "metadata": {},
   "outputs": [],
   "source": [
    "import numpy as np\n",
    "import pandas as pd\n",
    "import torch\n",
    "import torch.nn as nn"
   ]
  },
  {
   "cell_type": "code",
   "execution_count": null,
   "metadata": {},
   "outputs": [],
   "source": [
    "loss_fn = nn.MSELoss()\n",
    "\n",
    "predictions = torch.tensor([500,2000],dtype=torch.float)\n",
    "y = torch.tensor([1000,1500],dtype=torch.float)\n",
    "print(loss_fn(predictions,y))"
   ]
  },
  {
   "cell_type": "markdown",
   "metadata": {},
   "source": [
    "### Mean Absolute Error (MAE)\n",
    "\n",
    "MAE is the average of the absolute differences between predicted and target values.\n",
    "\n",
    "```python\n",
    "loss_fn = nn.L1Loss()\n",
    "```"
   ]
  },
  {
   "cell_type": "code",
   "execution_count": null,
   "metadata": {},
   "outputs": [],
   "source": [
    "loss_fn = nn.L1Loss()"
   ]
  },
  {
   "cell_type": "markdown",
   "metadata": {},
   "source": [
    "### Choosing a Loss Function\n",
    "\n",
    "For example, the squaring process in MSE emphasizes the largest differences between predicted and target values. Sometimes, this is helpful, but in other cases it can lead to overfitting. \n",
    "\n",
    "In those cases, instead of squaring differences we might choose to MAE."
   ]
  }
 ],
 "metadata": {
  "language_info": {
   "name": "python"
  }
 },
 "nbformat": 4,
 "nbformat_minor": 2
}
