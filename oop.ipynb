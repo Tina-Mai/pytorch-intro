{
 "cells": [
  {
   "cell_type": "markdown",
   "metadata": {},
   "source": [
    "# Build a Neural Network Class\n",
    "\n",
    "Often AI developers need to create non-sequential types of neural networks using **object-oriented programming (OOP)**.\n",
    "\n",
    "With `Sequential`, we can only feed data from one layer to the next. With OOP, we can build in logic to skip certain layers or to loop others to improve neural network performance.\n",
    "\n",
    "### Example:\n",
    "\n",
    "Build a Sequential network with OOP."
   ]
  },
  {
   "cell_type": "markdown",
   "metadata": {},
   "source": [
    "**1. Create the `NN_Regression` Class**\n",
    "\n",
    "**Classes**: types of things in OOP\n",
    "The variable `model` is a specific `Sequential` neural network, called an **instance** of the **class**.\n",
    "\n",
    "Create a class of `nn.Module` called `NN_Regression` using the syntax:"
   ]
  },
  {
   "cell_type": "code",
   "execution_count": null,
   "metadata": {},
   "outputs": [],
   "source": [
    "class NN_Regression(nn.Module):\n",
    "    pass"
   ]
  },
  {
   "cell_type": "markdown",
   "metadata": {},
   "source": [
    "**2. Initialize the Network Components**\n",
    "\n",
    "Inside the `class` declaration, we need to **initialize** all the layers and **activation functions** we plan to use. \n",
    "\n",
    "Think of this step as “gathering all the ingredients” for a recipe."
   ]
  },
  {
   "cell_type": "code",
   "execution_count": null,
   "metadata": {},
   "outputs": [],
   "source": [
    "def __init__(self):\n",
    "    super(NN_Regression, self).__init__()\n",
    "    # initialize the layers\n",
    "    self.layer1 = nn.Linear(3, 16) \n",
    "    self.layer2 = nn.Linear(16, 8) \n",
    "    self.layer3 = nn.Linear(8, 4) \n",
    "    self.layer4 = nn.Linear(4, 1)\n",
    "\n",
    "    # initialize activation functions\n",
    "    self.relu = nn.ReLU()"
   ]
  },
  {
   "cell_type": "markdown",
   "metadata": {},
   "source": [
    "**3. Define the Forward Pass**\n",
    "\n",
    "Create a `forward` method that dictates the flow of how an input data tensor `x` is passed from layer to layer through the network. Within this method, we can use all the ingredients we already gathered, like `self.layer1` and `self.relu`."
   ]
  },
  {
   "cell_type": "code",
   "execution_count": null,
   "metadata": {},
   "outputs": [],
   "source": [
    "def forward(self, x):\n",
    "    # define the forward pass\n",
    "    x = self.layer1(x)\n",
    "    x = self.relu(x)\n",
    "    x = self.layer2(x)\n",
    "    x = self.relu(x)\n",
    "    x = self.layer3(x)\n",
    "    x = self.relu(x)\n",
    "    x = self.layer4(x)\n",
    "    return x"
   ]
  },
  {
   "cell_type": "markdown",
   "metadata": {},
   "source": [
    "**4. Instantiate the Model**"
   ]
  },
  {
   "cell_type": "code",
   "execution_count": null,
   "metadata": {},
   "outputs": [],
   "source": [
    "model = NN_Regression()"
   ]
  },
  {
   "cell_type": "markdown",
   "metadata": {},
   "source": [
    "Putting it all together:\n",
    "\n",
    "# Create a Neural Network in PyTorch Using OOP\n",
    "\n",
    "1. create the `NN_Regression` class from the narrative\n",
    "2. create an input tensor of apartment data\n",
    "3. feedforward to make predictions"
   ]
  },
  {
   "cell_type": "code",
   "execution_count": null,
   "metadata": {},
   "outputs": [],
   "source": [
    "import numpy as np\n",
    "import pandas as pd\n",
    "import torch\n",
    "import torch.nn as nn\n",
    "\n",
    "# create the NN_Regression class\n",
    "class NN_Regression(nn.Module):\n",
    "    def __init__(self):\n",
    "        super(NN_Regression, self).__init__()\n",
    "        # initialize layers\n",
    "        self.layer1 = nn.Linear(3, 16)\n",
    "        self.layer2 = nn.Linear(16, 8) \n",
    "        self.layer3 = nn.Linear(8, 4)\n",
    "        self.layer4 = nn.Linear(4, 1) \n",
    "        \n",
    "        # initialize activation functions\n",
    "        self.relu = nn.ReLU()\n",
    "\n",
    "    def forward(self, x):\n",
    "        # define the forward pass\n",
    "        x = self.layer1(x)\n",
    "        x = self.relu(x)\n",
    "        x = self.layer2(x)\n",
    "        x = self.relu(x)\n",
    "        x = self.layer3(x)\n",
    "        x = self.relu(x)\n",
    "        x = self.layer4(x)\n",
    "        return x\n",
    "\n",
    "# create an instance of NN_Regression\n",
    "model = NN_Regression()\n",
    "\n",
    "# create an input tensor\n",
    "apartments_df = pd.read_csv(\"streeteasy.csv\")\n",
    "numerical_features = ['size_sqft', 'bedrooms', 'building_age_yrs']\n",
    "X = torch.tensor(apartments_df[numerical_features].values, dtype=torch.float)\n",
    "\n",
    "# feedforward to predict rent\n",
    "predicted_rents = model(X)\n",
    "\n",
    "# show output\n",
    "predicted_rents[:5]"
   ]
  }
 ],
 "metadata": {
  "kernelspec": {
   "display_name": "Python 3",
   "language": "python",
   "name": "python3"
  },
  "language_info": {
   "codemirror_mode": {
    "name": "ipython",
    "version": 3
   },
   "file_extension": ".py",
   "mimetype": "text/x-python",
   "name": "python",
   "nbconvert_exporter": "python",
   "pygments_lexer": "ipython3",
   "version": "3.11.5"
  }
 },
 "nbformat": 4,
 "nbformat_minor": 2
}
