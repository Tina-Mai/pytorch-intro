{
 "cells": [
  {
   "cell_type": "markdown",
   "metadata": {},
   "source": [
    "# Sequential Neural Network\n",
    "\n",
    "PyTorch `Sequential` class is a container for linear layers.\n",
    "\n",
    "### Example:\n",
    "![Sequential neural network](images/sequential.svg)\n",
    "\n",
    "This network has\n",
    "- input layer: 2 nodes\n",
    "- 1 hidden layer: 3 nodes with ReLU activation\n",
    "- output layer: 1 node\n",
    "\n",
    "Here’s how we’d build the example network:\n",
    "\n",
    "```python\n",
    "model = nn.Sequential(\n",
    "    nn.Linear(2,3),\n",
    "    nn.ReLU(),\n",
    "    nn.Linear(3,1)\n",
    ")\n",
    "```\n",
    "\n",
    "1. `nn.Linear(2,3)` connects the 2 input nodes to the 3 hidden nodes using our standard weights-and-bias linear calculation\n",
    "2. `nn.ReLU()` applies the ReLU activation function to that linear computation\n",
    "3. `nn.Linear(3,1)` connects the ReLU output from the 3 hidden nodes to the 1 output node (again, using our usual linear calculation)\n",
    "\n",
    "**Note**: the connections between layers **must be properly aligned**. Once we defined `nn.Linear(2,3)` as the first layer, the next `nn.Linear()` must start with 3 nodes.\n",
    "\n",
    "\n",
    "\n"
   ]
  },
  {
   "cell_type": "code",
   "execution_count": null,
   "metadata": {},
   "outputs": [],
   "source": []
  }
 ],
 "metadata": {
  "language_info": {
   "name": "python"
  }
 },
 "nbformat": 4,
 "nbformat_minor": 2
}
