{
 "cells": [
  {
   "cell_type": "markdown",
   "metadata": {},
   "source": [
    "# Linear Regression with Perceptrons"
   ]
  },
  {
   "cell_type": "markdown",
   "metadata": {},
   "source": [
    "**Linear regression** models use **linear equations** to make predictions.\n",
    "\n",
    "\n",
    "In a linear equation like:\n",
    "$$\n",
    "\\text{rent} = 2.5 \\text{sqft} - 1.5 \\text{age} + 1000\n",
    "$$\n",
    "- `rent` is the **output or target**\n",
    "- `sqft` and `age` are the **input features**\n",
    "- `2.5` is the **weight** associated with `sqft` feature\n",
    "- `-1.5` is the **weight** associated with `age` feature\n",
    "- `1000` is the **bias**\n",
    "\n",
    "\n",
    "\n"
   ]
  },
  {
   "cell_type": "markdown",
   "metadata": {},
   "source": [
    "## Perceptrons\n",
    "We need to transform this equation into a neural network structure called a Perceptron.\n",
    "\n",
    "**Perceptron**: a type of network structure consisting of **nodes** (circles in the diagram) connected to each other by **edges** (arrows in the diagram)\n",
    "\n",
    "![Perceptron diagram showing input and output layers](perceptron.svg)"
   ]
  },
  {
   "cell_type": "code",
   "execution_count": null,
   "metadata": {},
   "outputs": [
    {
     "ename": "",
     "evalue": "",
     "output_type": "error",
     "traceback": [
      "\u001b[1;31mRunning cells with 'Python 3.11.5' requires the ipykernel package.\n",
      "\u001b[1;31mRun the following command to install 'ipykernel' into the Python environment. \n",
      "\u001b[1;31mCommand: '/Users/tinamai/.pyenv/versions/3.11.5/bin/python -m pip install ipykernel -U --force-reinstall'"
     ]
    }
   ],
   "source": [
    "# Define the inputs\n",
    "size_sqft = 500.0\n",
    "age = 10.0\n",
    "bias = 1\n",
    "\n",
    "# The inputs flow through the edges, receiving weights\n",
    "weighted_size = 2.5 * size_sqft\n",
    "weighted_age = -1.5 * age\n",
    "weighted_bias = 1000 * bias\n",
    "\n",
    "# The output node adds the weighted inputs\n",
    "weighted_sum = weighted_size + weighted_age + weighted_bias\n",
    "\n",
    "# Generate prediction\n",
    "print(\"Predicted Rent:\", weighted_sum)"
   ]
  },
  {
   "cell_type": "markdown",
   "metadata": {},
   "source": [
    "## Activation functions\n",
    "\n",
    "**Activation functions** allow a neural network to model nonlinear relationships.\n",
    "\n",
    "Examples:\n",
    "- ReLU: if negative, return 0, if positive, return the value\n",
    "\n",
    "    ![ReLU activation function](relu.svg)\n",
    "\n",
    "- Sigmoid:\n",
    "\n",
    "    ![Sigmoid activation function](sigmoid.svg)\n"
   ]
  },
  {
   "cell_type": "code",
   "execution_count": null,
   "metadata": {},
   "outputs": [],
   "source": [
    "import numpy as np\n",
    "\n",
    "def ReLU(x):\n",
    "    return max(0,x)\n",
    "\n",
    "def sigmoid(x):\n",
    "    return 1 / (1 + np.exp(-x))"
   ]
  },
  {
   "cell_type": "markdown",
   "metadata": {},
   "source": [
    "## Training process\n",
    "\n",
    "1. **Forward pass / feedforward**: we feed input data through the network from layer to layer and calculate the final output value\n",
    "2. **Loss**: we measure how close (or far!) the network’s predictions are to the actual values\n",
    "3. **Backward pass / backpropagation**: we apply an optimization algorithm to go back and update the weights and biases of the network, to try to improve the network’s performance\n",
    "4. **Iterate**: we repeat this process over and over, checking each time if the loss (or error) is going down\n",
    "\n",
    "![Training process](training_process.svg)"
   ]
  }
 ],
 "metadata": {
  "kernelspec": {
   "display_name": "Python 3",
   "language": "python",
   "name": "python3"
  },
  "language_info": {
   "name": "python",
   "version": "3.11.5"
  }
 },
 "nbformat": 4,
 "nbformat_minor": 2
}
